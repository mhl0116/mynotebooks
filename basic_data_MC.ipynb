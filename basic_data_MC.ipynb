{
 "cells": [
  {
   "cell_type": "code",
   "execution_count": 1,
   "metadata": {},
   "outputs": [
    {
     "name": "stdout",
     "output_type": "stream",
     "text": [
      "Populating the interactive namespace from numpy and matplotlib\n"
     ]
    }
   ],
   "source": [
    "import uproot4\n",
    "#import coffea\n",
    "%pylab inline\n",
    "import matplotlib\n",
    "import matplotlib.pyplot as plt\n",
    "from matplotlib.colors import LogNorm\n",
    "import awkward1 as ak\n",
    "#from coffea import hist, processor\n",
    "#from coffea.analysis_objects import JaggedCandidateArray\n",
    "#from coffea.nanoaod import NanoEvents\n",
    "\n",
    "from dask.distributed import Client, progress\n",
    "import distributed\n",
    "\n",
    "from condor_utils import make_htcondor_cluster\n",
    "import utils\n",
    "\n",
    "import mplhep\n",
    "plt.style.use(mplhep.style.CMS)"
   ]
  },
  {
   "cell_type": "code",
   "execution_count": 2,
   "metadata": {},
   "outputs": [],
   "source": [
    "#from coffea.nanoevents.methods import candidate\n",
    "##from NanoEvents.methods import candidate\n",
    "#ak.behavior.update(candidate.behavior)"
   ]
  },
  {
   "cell_type": "code",
   "execution_count": 2,
   "metadata": {},
   "outputs": [],
   "source": [
    "from utils import get_results, clear_tree_cache, plot_timeflow"
   ]
  },
  {
   "cell_type": "code",
   "execution_count": 3,
   "metadata": {},
   "outputs": [
    {
     "data": {
      "text/html": [
       "<table style=\"border: 2px solid white;\">\n",
       "<tr>\n",
       "<td style=\"vertical-align: top; border: 0px solid white\">\n",
       "<h3 style=\"text-align: left;\">Client</h3>\n",
       "<ul style=\"text-align: left; list-style: none; margin: 0; padding: 0;\">\n",
       "  <li><b>Scheduler: </b>tcp://169.228.130.5:29743</li>\n",
       "  <li><b>Dashboard: </b><a href='http://169.228.130.5:13346/status' target='_blank'>http://169.228.130.5:13346/status</a></li>\n",
       "</ul>\n",
       "</td>\n",
       "<td style=\"vertical-align: top; border: 0px solid white\">\n",
       "<h3 style=\"text-align: left;\">Cluster</h3>\n",
       "<ul style=\"text-align: left; list-style:none; margin: 0; padding: 0;\">\n",
       "  <li><b>Workers: </b>50</li>\n",
       "  <li><b>Cores: </b>50</li>\n",
       "  <li><b>Memory: </b>300.00 GB</li>\n",
       "</ul>\n",
       "</td>\n",
       "</tr>\n",
       "</table>"
      ],
      "text/plain": [
       "<Client: 'tcp://169.228.130.5:29743' processes=50 threads=50, memory=300.00 GB>"
      ]
     },
     "execution_count": 3,
     "metadata": {},
     "output_type": "execute_result"
    }
   ],
   "source": [
    "client = Client(\"tcp://169.228.130.5:29743\")\n",
    "client"
   ]
  },
  {
   "cell_type": "code",
   "execution_count": 46,
   "metadata": {},
   "outputs": [
    {
     "name": "stdout",
     "output_type": "stream",
     "text": [
      "CPU times: user 7.89 ms, sys: 2.06 ms, total: 9.96 ms\n",
      "Wall time: 341 ms\n"
     ]
    }
   ],
   "source": [
    "%%time\n",
    "\n",
    "DY_files = \"/hadoop/cms/store/user/hmei/nanoaod_runII/HHggtautau//DYJetsToLL_M-50_TuneCP5_13TeV-amcatnloFXFX-pythia8_RunIIAutumn18MiniAOD-102X_upgrade2018_realistic_v15-v1_MINIAODSIM_v0.6_20201021/*.root\"\n",
    "ttbar_files = \"/hadoop/cms/store/user/legianni/ProjectMetis/TTJets_TuneCP5_13TeV-amcatnloFXFX-pythia8_18____x3/*root\"\n",
    "\n",
    "import glob\n",
    "background_fileset = {\n",
    "    #\"DYJets\": [glob.glob(DY_files)[0]]\n",
    "    \"DYJets\": glob.glob(DY_files),\n",
    "    \"ttbar\": glob.glob(ttbar_files)\n",
    "}\n",
    "\n",
    "signal_fileset = {\n",
    "    \"signal\":glob.glob(\"/hadoop/cms/store/user/legianni/ProjectMetis/HHggtautau_Era2018_private_prova_vera/*.root\"),\n",
    "}\n",
    "\n",
    "data_fileset = {\n",
    "    \"EGamma_2018A\":glob.glob(\"/hadoop/cms/store/user/legianni/ProjectMetis/EGamma_Run2018A____x3/*root\"),\n",
    "    \"EGamma_2018B\":glob.glob(\"/hadoop/cms/store/user/legianni/ProjectMetis/EGamma_Run2018B____x3/*root\"),\n",
    "    \"EGamma_2018C\":glob.glob(\"/hadoop/cms/store/user/legianni/ProjectMetis/EGamma_Run2018C____x3/*root\"),\n",
    "    \"EGamma_2018D\":glob.glob(\"/hadoop/cms/store/user/legianni/ProjectMetis/EGamma_Run2018D____x3/*root\")\n",
    "}\n",
    "\n",
    "filesets = {\"data\": data_fileset, \"background\": background_fileset, \"signal\": signal_fileset}"
   ]
  },
  {
   "cell_type": "markdown",
   "metadata": {},
   "source": [
    "## this part only needs to do it once, could write to file in case need to restart notebook"
   ]
  },
  {
   "cell_type": "code",
   "execution_count": 47,
   "metadata": {},
   "outputs": [
    {
     "name": "stdout",
     "output_type": "stream",
     "text": [
      "EGamma_2018A: total 93164815 events, got 239 files, return 239 chunks\n",
      "EGamma_2018B: total 50705031 events, got 98 files, return 155 chunks\n",
      "EGamma_2018C: total 49484413 events, got 110 files, return 118 chunks\n",
      "EGamma_2018D: total 229268651 events, got 426 files, return 782 chunks\n",
      "DYJets: total 997561 events, got 15 files, return 15 chunks\n",
      "ttbar: total 35821609 events, got 167 files, return 167 chunks\n",
      "signal: total 712801 events, got 50 files, return 50 chunks\n",
      "\n",
      "total events to be processed: 4.60e+08\n",
      "CPU times: user 9.77 s, sys: 2.39 s, total: 12.2 s\n",
      "Wall time: 1min 23s\n"
     ]
    }
   ],
   "source": [
    "%%time\n",
    "\n",
    "chunk_size = 5e5\n",
    "chunks = {}\n",
    "tot_evts = 0\n",
    "\n",
    "for cat in [\"data\", \"background\", \"signal\"]:\n",
    "    fileset = filesets[cat]\n",
    "    for key in fileset:\n",
    "        fnames = fileset[key]\n",
    "        cks, evts = utils.get_chunking(tuple(fnames),chunk_size,treename=\"Events\")\n",
    "        chunks[key] = cks\n",
    "        tot_evts += evts\n",
    "        print(\"{}: total {} events, got {} files, return {} chunks\".format(key, evts, len(fnames), len(cks))) \n",
    "print()\n",
    "#print(chunks.keys())\n",
    "print (\"total events to be processed: {0:8.2e}\".format(tot_evts) )"
   ]
  },
  {
   "cell_type": "markdown",
   "metadata": {},
   "source": [
    "## scratch area"
   ]
  },
  {
   "cell_type": "code",
   "execution_count": 6,
   "metadata": {},
   "outputs": [
    {
     "data": {
      "text/plain": [
       "(('/hadoop/cms/store/user/legianni/ProjectMetis/EGamma_Run2018D____x3/test_nanoaodSkim_1.root',\n",
       "  0,\n",
       "  500000),\n",
       " ('/hadoop/cms/store/user/legianni/ProjectMetis/EGamma_Run2018D____x3/test_nanoaodSkim_1.root',\n",
       "  500000,\n",
       "  517981))"
      ]
     },
     "execution_count": 6,
     "metadata": {},
     "output_type": "execute_result"
    }
   ],
   "source": [
    "# example of chunk\n",
    "chunks[\"EGamma_2018D\"][0],chunks[\"EGamma_2018D\"][1]"
   ]
  },
  {
   "cell_type": "code",
   "execution_count": 7,
   "metadata": {
    "scrolled": true
   },
   "outputs": [
    {
     "data": {
      "text/plain": [
       "['Electron_deltaEtaSC',\n",
       " 'Electron_dr03EcalRecHitSumEt',\n",
       " 'Electron_dr03HcalDepth1TowerSumEt',\n",
       " 'Electron_dr03TkSumPt',\n",
       " 'Electron_dr03TkSumPtHEEP',\n",
       " 'Electron_dxy',\n",
       " 'Electron_dxyErr',\n",
       " 'Electron_dz',\n",
       " 'Electron_dzErr',\n",
       " 'Electron_eCorr',\n",
       " 'Electron_eInvMinusPInv',\n",
       " 'Electron_energyErr',\n",
       " 'Electron_eta',\n",
       " 'Electron_hoe',\n",
       " 'Electron_ip3d',\n",
       " 'Electron_jetPtRelv2',\n",
       " 'Electron_jetRelIso',\n",
       " 'Electron_mass',\n",
       " 'Electron_miniPFRelIso_all',\n",
       " 'Electron_miniPFRelIso_chg',\n",
       " 'Electron_mvaFall17V1Iso',\n",
       " 'Electron_mvaFall17V1noIso',\n",
       " 'Electron_mvaFall17V2Iso',\n",
       " 'Electron_mvaFall17V2noIso',\n",
       " 'Electron_pfRelIso03_all',\n",
       " 'Electron_pfRelIso03_chg',\n",
       " 'Electron_phi',\n",
       " 'Electron_pt',\n",
       " 'Electron_r9',\n",
       " 'Electron_scEtOverPt',\n",
       " 'Electron_sieie',\n",
       " 'Electron_sip3d',\n",
       " 'Electron_mvaTTH',\n",
       " 'Electron_charge',\n",
       " 'Electron_cutBased',\n",
       " 'Electron_cutBased_Fall17_V1',\n",
       " 'Electron_jetIdx',\n",
       " 'Electron_pdgId',\n",
       " 'Electron_photonIdx',\n",
       " 'Electron_tightCharge',\n",
       " 'Electron_vidNestedWPBitmap',\n",
       " 'Electron_vidNestedWPBitmapHEEP',\n",
       " 'Electron_convVeto',\n",
       " 'Electron_cutBased_HEEP',\n",
       " 'Electron_isPFcand',\n",
       " 'Electron_lostHits',\n",
       " 'Electron_mvaFall17V1Iso_WP80',\n",
       " 'Electron_mvaFall17V1Iso_WP90',\n",
       " 'Electron_mvaFall17V1Iso_WPL',\n",
       " 'Electron_mvaFall17V1noIso_WP80',\n",
       " 'Electron_mvaFall17V1noIso_WP90',\n",
       " 'Electron_mvaFall17V1noIso_WPL',\n",
       " 'Electron_mvaFall17V2Iso_WP80',\n",
       " 'Electron_mvaFall17V2Iso_WP90',\n",
       " 'Electron_mvaFall17V2Iso_WPL',\n",
       " 'Electron_mvaFall17V2noIso_WP80',\n",
       " 'Electron_mvaFall17V2noIso_WP90',\n",
       " 'Electron_mvaFall17V2noIso_WPL',\n",
       " 'Electron_seedGain',\n",
       " 'Electron_cleanmask']"
      ]
     },
     "execution_count": 7,
     "metadata": {},
     "output_type": "execute_result"
    }
   ],
   "source": [
    "f_test = uproot4.open(chunks[\"EGamma_2018D\"][0][0])\n",
    "t_test = f_test[\"Events\"]\n",
    "electron_keys = t_test.keys(filter_name=\"Electron_*\")\n",
    "electron_keys"
   ]
  },
  {
   "cell_type": "markdown",
   "metadata": {},
   "source": [
    "## actual processing of data"
   ]
  },
  {
   "cell_type": "code",
   "execution_count": 48,
   "metadata": {},
   "outputs": [
    {
     "data": {
      "text/plain": [
       "70894446784.0"
      ]
     },
     "execution_count": 48,
     "metadata": {},
     "output_type": "execute_result"
    }
   ],
   "source": [
    "## need to use dask to do this...\n",
    "\n",
    "def get_totWeight(files):\n",
    "    sumWeight = 0\n",
    "    for file in files:\n",
    "        f = uproot4.open(file[0])\n",
    "        t = f[\"Events\"]\n",
    "        #print (t) \n",
    "        genWeight = t.arrays(\"genWeight\",entry_start=file[1],entry_stop=file[2])#,library=\"ak\")\n",
    "        tot_w = ak.sum(genWeight)\n",
    "        sumWeight += tot_w\n",
    "    return sumWeight\n",
    "\n",
    "#get_totWeight(chunks[\"DYJets\"])\n",
    "get_totWeight(chunks[\"ttbar\"])"
   ]
  },
  {
   "cell_type": "code",
   "execution_count": 9,
   "metadata": {},
   "outputs": [],
   "source": [
    "sumw_ttbar = 70894446784.0\n",
    "sumw_dy = 17799596672.0"
   ]
  },
  {
   "cell_type": "code",
   "execution_count": 10,
   "metadata": {},
   "outputs": [
    {
     "name": "stderr",
     "output_type": "stream",
     "text": [
      "distributed.comm.tcp - WARNING - Closing dangling stream in <TCP  local=tcp://169.228.130.5:4486 remote=tcp://169.228.130.5:29743>\n",
      "distributed.comm.tcp - WARNING - Closing dangling stream in <TCP  local=tcp://169.228.130.5:4532 remote=tcp://169.228.130.5:29743>\n",
      "distributed.comm.tcp - WARNING - Closing dangling stream in <TCP  local=tcp://169.228.130.5:4618 remote=tcp://169.228.130.5:29743>\n"
     ]
    },
    {
     "name": "stdout",
     "output_type": "stream",
     "text": [
      "CPU times: user 12.1 s, sys: 633 ms, total: 12.8 s\n",
      "Wall time: 18.1 s\n"
     ]
    },
    {
     "data": {
      "text/html": [
       "\n",
       "        <div style=\"max-height:1000px;max-width:1500px;overflow:auto\">\n",
       "        <b>total count</b>: 48461.0, <b>metadata</b>: {}<br>\n",
       "        <div style=\"display:flex;\">\n",
       "            <div style=\"display:inline;\">\n",
       "                \n",
       "                <table style='border:1px solid black;'\">\n",
       "                    <thead><tr><th>bin</th><th>content</th></tr></thead>\n",
       "                    <tr><td>(60,61)</td><td>126 ± 11.225</td></tr>\n",
       "<tr><td>(61,62)</td><td>126 ± 11.225</td></tr>\n",
       "<tr><td>(62,63)</td><td>127 ± 11.2694</td></tr>\n",
       "<tr><td>(63,64)</td><td>138 ± 11.7473</td></tr>\n",
       "<tr><td colspan='2'><center>[52 rows hidden]</center></td></tr>\n",
       "<tr><td>(116,117)</td><td>177 ± 13.3041</td></tr>\n",
       "<tr><td>(117,118)</td><td>159 ± 12.6095</td></tr>\n",
       "<tr><td>(118,119)</td><td>129 ± 11.3578</td></tr>\n",
       "<tr><td>(119,120)</td><td>149 ± 12.2066</td></tr>\n",
       "                </table>\n",
       "            \n",
       "            </div>\n",
       "            <div style=\"display:inline; margin: auto 2%;\">\n",
       "                <img src='data:image/svg+xml;base64,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'/>\n",
       "            </div>\n",
       "            </div>\n",
       "        </div>\n",
       "        "
      ],
      "text/plain": [
       "[126.00 ± 11.22   126.00 ± 11.22   127.00 ± 11.27   138.00 ± 11.75\n",
       " 159.00 ± 12.61   148.00 ± 12.17   157.00 ± 12.53   178.00 ± 13.34\n",
       " 184.00 ± 13.56   188.00 ± 13.71   218.00 ± 14.76   220.00 ± 14.83\n",
       " 264.00 ± 16.25   246.00 ± 15.68   258.00 ± 16.06   295.00 ± 17.18\n",
       " 319.00 ± 17.86   376.00 ± 19.39   424.00 ± 20.59   454.00 ± 21.31\n",
       " 571.00 ± 23.90   675.00 ± 25.98   835.00 ± 28.90   1004.00 ± 31.69\n",
       " 1316.00 ± 36.28   1687.00 ± 41.07   2251.00 ± 47.44   3037.00 ± 55.11\n",
       " 3713.00 ± 60.93   4682.00 ± 68.43   4738.00 ± 68.83   4227.00 ± 65.02\n",
       " 3289.00 ± 57.35   2320.00 ± 48.17   1681.00 ± 41.00   1225.00 ± 35.00\n",
       " 860.00 ± 29.33   639.00 ± 25.28   506.00 ± 22.49   393.00 ± 19.82\n",
       " 399.00 ± 19.97   346.00 ± 18.60   271.00 ± 16.46   291.00 ± 17.06\n",
       " 257.00 ± 16.03   237.00 ± 15.39   206.00 ± 14.35   207.00 ± 14.39\n",
       " 192.00 ± 13.86   197.00 ± 14.04   182.00 ± 13.49   190.00 ± 13.78\n",
       " 163.00 ± 12.77   169.00 ± 13.00   157.00 ± 12.53   129.00 ± 11.36\n",
       " 177.00 ± 13.30   159.00 ± 12.61   129.00 ± 11.36   149.00 ± 12.21]"
      ]
     },
     "execution_count": 10,
     "metadata": {},
     "output_type": "execute_result"
    }
   ],
   "source": [
    "%%time\n",
    "\n",
    "from yahist import Hist1D\n",
    "import uproot_methods\n",
    "\n",
    "def process_electron(args):\n",
    "    fname,entrystart,entrystop = args\n",
    "    \n",
    "    f = uproot4.open(fname)\n",
    "    t = f[\"Events\"]\n",
    "    \n",
    "    electron_keys = t.keys(filter_name=\"Electron_*\") \n",
    "    electrons = t.arrays( electron_keys, entry_start=entrystart, entry_stop=entrystop, library=\"ak\", how=\"zip\")\n",
    "    \n",
    "    genWeight = np.array(ones(len(electrons))) \n",
    "    if not (\"EGamma\" in fname):\n",
    "        genWeight = t.arrays( \"genWeight\", entry_start=entrystart, entry_stop=entrystop)#, library=\"ak\", how=\"zip\")\n",
    "        \n",
    "    #print (genWeight)\n",
    "    # filter electron\n",
    "    cut_ele_pt = electrons.Electron.pt > 25\n",
    "    cut_ele_eta = abs(electrons.Electron.eta) < 2.5\n",
    "    cut_ele_dxy = abs(electrons.Electron.dxy) < 0.045\n",
    "    cut_ele_dz = abs(electrons.Electron.dz) < 0.2\n",
    "    cut_ele_id = electrons.Electron.mvaFall17V2Iso_WP80 == True\n",
    "    \n",
    "    # build mask\n",
    "    mask_ele = cut_ele_pt & cut_ele_eta & cut_ele_dxy & cut_ele_dz #& cut_ele_id\n",
    "    electrons_selected = electrons[mask_ele]\n",
    "   \n",
    "    # make di-ele opposite sign\n",
    "    mask_diele_os = ( ak.num(electrons_selected.Electron) == 2 ) & ( ak.sum(electrons_selected.Electron.charge, axis=1) == 0)\n",
    "    electrons_fromdiele = electrons_selected[mask_diele_os]\n",
    "    genWeight_fromdiele = genWeight[mask_diele_os]\n",
    "    \n",
    "    ele0 = electrons_fromdiele.Electron[:,0]\n",
    "    ele1 = electrons_fromdiele.Electron[:,1]\n",
    "    \n",
    "    diele_mass = np.sqrt(2*ele0.pt*ele1.pt*(np.cosh(ele0.eta - ele1.eta) - np.cos(ele0.phi - ele1.phi)))\n",
    "    \n",
    "    mask_hist = (diele_mass > 60) & (diele_mass < 120)\n",
    "    \n",
    "    weight_hist = genWeight_fromdiele[mask_hist]\n",
    "    if not (\"EGamma\" in fname):\n",
    "        weight_hist = genWeight_fromdiele.genWeight[mask_hist]\n",
    "        \n",
    "    return Hist1D(ak.to_numpy(diele_mass[mask_hist]), bins=np.linspace(60,120,61),\n",
    "                  weights=ak.to_numpy(weight_hist) )\n",
    "\n",
    "hist0 = process_electron( chunks[\"EGamma_2018D\"][0] )\n",
    "#hist0 = process_electron( chunks[\"DYJets\"][0] )\n",
    "#hist1 = process_electron( chunks[\"EGamma_2018D\"][1] )\n",
    "\n",
    "hist0 #+ hist1"
   ]
  },
  {
   "cell_type": "markdown",
   "metadata": {},
   "source": [
    "## send to dask"
   ]
  },
  {
   "cell_type": "code",
   "execution_count": 49,
   "metadata": {},
   "outputs": [
    {
     "name": "stdout",
     "output_type": "stream",
     "text": [
      "EGamma_2018A\n",
      "EGamma_2018B\n",
      "EGamma_2018C\n",
      "EGamma_2018D\n",
      "DYJets\n",
      "ttbar\n",
      "signal\n"
     ]
    }
   ],
   "source": [
    "for key in chunks:\n",
    "    print (key)"
   ]
  },
  {
   "cell_type": "code",
   "execution_count": 50,
   "metadata": {},
   "outputs": [
    {
     "name": "stdout",
     "output_type": "stream",
     "text": [
      "start process EGamma_2018A\n",
      "start process EGamma_2018B\n",
      "start process EGamma_2018C\n",
      "start process EGamma_2018D\n",
      "start process DYJets\n",
      "start process ttbar\n",
      "start process signal\n",
      "CPU times: user 2.28 s, sys: 215 ms, total: 2.49 s\n",
      "Wall time: 7min 32s\n"
     ]
    }
   ],
   "source": [
    "%%time\n",
    "from dask.distributed import as_completed\n",
    "\n",
    "futures = {}\n",
    "results = {}\n",
    "\n",
    "for key in chunks:\n",
    "    print (\"start process {}\".format(key))\n",
    "    futures[key] = client.map(process_electron, chunks[key])\n",
    "    \n",
    "    results_local = []\n",
    "    #if key != \"ttbar\": continue\n",
    "    while len(results_local) < len(chunks[key]): \n",
    "        ac = as_completed(futures[key], with_results=True)\n",
    "        \n",
    "        for future, result in ac:\n",
    "            results_local.append(result)\n",
    "            \n",
    "    results[key] = np.sum(np.array(results_local))\n",
    "    \n",
    "#from datetime import datetime\n",
    "#\n",
    "#now = datetime.now()\n",
    "#\n",
    "#current_time = now.strftime(\"%H:%M:%S\")\n",
    "#print(\"Current Time =\", current_time)"
   ]
  },
  {
   "cell_type": "code",
   "execution_count": 34,
   "metadata": {},
   "outputs": [],
   "source": [
    "mee_data = results[\"EGamma_2018A\"] + results[\"EGamma_2018B\"] + results[\"EGamma_2018C\"] + results[\"EGamma_2018D\"]\n",
    "mee_dy = results[\"DYJets\"]\n",
    "mee_ttbar = results[\"ttbar\"]"
   ]
  },
  {
   "cell_type": "code",
   "execution_count": 52,
   "metadata": {},
   "outputs": [
    {
     "data": {
      "text/html": [
       "\n",
       "        <div style=\"max-height:1000px;max-width:1500px;overflow:auto\">\n",
       "        <b>total count</b>: 5899648.004064683, <b>metadata</b>: {}<br>\n",
       "        <div style=\"display:flex;\">\n",
       "            <div style=\"display:inline;\">\n",
       "                \n",
       "                <table style='border:1px solid black;'\">\n",
       "                    <thead><tr><th>bin</th><th>content</th></tr></thead>\n",
       "                    <tr><td>(60,61)</td><td>115213 ± 2204.17</td></tr>\n",
       "<tr><td>(61,62)</td><td>118051 ± 2240.16</td></tr>\n",
       "<tr><td>(62,63)</td><td>118386 ± 2252.3</td></tr>\n",
       "<tr><td>(63,64)</td><td>123936 ± 2246.5</td></tr>\n",
       "<tr><td colspan='2'><center>[52 rows hidden]</center></td></tr>\n",
       "<tr><td>(116,117)</td><td>66479.5 ± 1644.95</td></tr>\n",
       "<tr><td>(117,118)</td><td>64021.9 ± 1642.06</td></tr>\n",
       "<tr><td>(118,119)</td><td>64756.9 ± 1626.84</td></tr>\n",
       "<tr><td>(119,120)</td><td>59483.6 ± 1608.18</td></tr>\n",
       "                </table>\n",
       "            \n",
       "            </div>\n",
       "            <div style=\"display:inline; margin: auto 2%;\">\n",
       "                <img src='data:image/svg+xml;base64,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'/>\n",
       "            </div>\n",
       "            </div>\n",
       "        </div>\n",
       "        "
      ],
      "text/plain": [
       "[115212.97 ± 2204.17   118051.06 ± 2240.16   118385.81 ± 2252.30\n",
       " 123935.62 ± 2246.50   123280.12 ± 2259.59   121405.23 ± 2274.20\n",
       " 123442.69 ± 2270.18   123234.20 ± 2288.93   124209.35 ± 2286.06\n",
       " 126493.16 ± 2273.88   124744.75 ± 2274.90   123565.92 ± 2279.29\n",
       " 119919.55 ± 2270.12   120059.62 ± 2268.26   124485.67 ± 2260.50\n",
       " 121270.34 ± 2247.10   114985.87 ± 2227.22   119841.74 ± 2223.73\n",
       " 115151.13 ± 2205.77   117253.06 ± 2206.88   110956.86 ± 2181.65\n",
       " 114163.95 ± 2175.77   113197.66 ± 2167.80   109960.36 ± 2163.12\n",
       " 110914.61 ± 2130.46   107799.99 ± 2112.62   107125.43 ± 2113.37\n",
       " 105568.82 ± 2092.69   105574.00 ± 2080.31   100126.42 ± 2051.25\n",
       " 97845.35 ± 2051.96   100157.10 ± 2030.24   96192.62 ± 2016.29\n",
       " 97211.41 ± 2004.23   94331.31 ± 1988.53   92750.11 ± 1973.82\n",
       " 88980.48 ± 1948.18   90980.94 ± 1930.68   88565.46 ± 1920.35\n",
       " 86074.28 ± 1900.51   85561.30 ± 1891.40   82334.25 ± 1854.31\n",
       " 84384.92 ± 1844.02   79553.02 ± 1838.82   78054.39 ± 1819.35\n",
       " 77690.62 ± 1807.80   75630.95 ± 1794.71   75904.68 ± 1781.15\n",
       " 75035.74 ± 1775.74   75086.24 ± 1760.85   72046.24 ± 1736.61\n",
       " 70615.04 ± 1723.77   70585.44 ± 1706.70   70159.58 ± 1686.67\n",
       " 65564.65 ± 1685.90   69294.00 ± 1676.15   66479.52 ± 1644.95\n",
       " 64021.92 ± 1642.06   64756.89 ± 1626.84   59483.55 ± 1608.18]"
      ]
     },
     "execution_count": 52,
     "metadata": {},
     "output_type": "execute_result"
    }
   ],
   "source": [
    "# save scale1fb in the beginning...\n",
    "\n",
    "mee_dy_weighted = mee_dy / sumw_dy * 59.0 * 1000 * 5941.0\n",
    "mee_ttbar_weighted = mee_ttbar / sumw_dy * 59.0 * 1000 * 831.76\n",
    "mee_ttbar_weighted"
   ]
  },
  {
   "cell_type": "code",
   "execution_count": 73,
   "metadata": {},
   "outputs": [],
   "source": [
    "mee_ttbar_weighted._metadata[\"label\"] = \"ttbar\"\n",
    "mee_dy_weighted._metadata[\"label\"] = \"DY\""
   ]
  },
  {
   "cell_type": "code",
   "execution_count": 74,
   "metadata": {},
   "outputs": [
    {
     "data": {
      "text/plain": [
       "(0.5, 1.5)"
      ]
     },
     "execution_count": 74,
     "metadata": {},
     "output_type": "execute_result"
    },
    {
     "data": {
      "image/png": "[encoded data removed]",
      "text/plain": [
       "<Figure size 864x648 with 2 Axes>"
      ]
     },
     "metadata": {
      "needs_background": "light"
     },
     "output_type": "display_data"
    }
   ],
   "source": [
    "from yahist.utils import plot_stack\n",
    "\n",
    "fig,(ax1,ax2) = plt.subplots(2,sharex=True,figsize=(12,9),gridspec_kw=dict(height_ratios=[3, 1]))\n",
    "#mee_data.normalize().plot(ax=ax1,histtype=\"step\", label=\"data\", show_errors=True)\n",
    "#mee_dy.normalize().plot(ax=ax1,alpha=0.8,color=\"C3\", label=\"mc\")\n",
    "#(mee_data.normalize()/mee_dy.normalize()).plot(ax=ax2,show_errors=True,label=\"data/MC\")\n",
    "\n",
    "mee_data.plot(ax=ax1,histtype=\"step\", label=\"data\", show_errors=True, color=\"black\")\n",
    "plot_stack([mee_ttbar_weighted, mee_dy_weighted],ax=ax1)\n",
    "\n",
    "mee_mc = mee_dy_weighted + mee_ttbar_weighted\n",
    "\n",
    "#mee_dy_weighted.plot(ax=ax1,alpha=0.8,color=\"C3\", label=\"DY\")\n",
    "(mee_data/mee_mc).plot(ax=ax2,show_errors=True,label=\"data/MC\")\n",
    "ax2.set_ylim(0.5,1.5)"
   ]
  }
 ],
 "metadata": {
  "kernelspec": {
   "display_name": "Python 3",
   "language": "python",
   "name": "python3"
  },
  "language_info": {
   "codemirror_mode": {
    "name": "ipython",
    "version": 3
   },
   "file_extension": ".py",
   "mimetype": "text/x-python",
   "name": "python",
   "nbconvert_exporter": "python",
   "pygments_lexer": "ipython3",
   "version": "3.8.6"
  }
 },
 "nbformat": 4,
 "nbformat_minor": 4
}
